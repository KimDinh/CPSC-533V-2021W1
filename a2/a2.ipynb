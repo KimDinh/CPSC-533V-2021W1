{
 "cells": [
  {
   "cell_type": "markdown",
   "metadata": {},
   "source": [
    "## CPSC 533V: Assignment 2 - Tabular Q Learning"
   ]
  },
  {
   "cell_type": "markdown",
   "metadata": {},
   "source": [
    "<p style=\"font-size: 1.2em;\">Due Date: Wed Oct 6, 2021</p>\n",
    "<p style=\"font-size: 1.2em;\">100 Points Total (9% of final grade)</p>"
   ]
  },
  {
   "cell_type": "markdown",
   "metadata": {},
   "source": [
    "## Important Notes\n",
    "\n",
    "* Your deliverable is this Jupyter Notebook. Submission will be done via Canvas.\n",
    "* For instructions on installing and running Jupyter Notebook: https://jupyter.org/install\n",
    "    * Start by cloning this repository: git clone git@github.com:UBCMOCCA/CPSC533V_2021W1.git\n",
    "    * Install Jupyter Notebook using either `conda install jupyter` or `pip install jupyter`\n",
    "    * Inside the `a2` folder, run `jupyter notebook` and a webpage should open in the browser\n",
    "    * If not, follow the instruction in terminal to launch an interactive session\n",
    "* If you use additional Python packages, please list them  as it will help with grading. \n",
    "* **We recommend working in groups of two**. List your names and student numbers below (if you use a different name on Canvas).\n",
    "\n",
    "<ul style=\"list-style-type: none; font-size: 1.2em;\">\n",
    "<li>Name (and student ID): Kim Dinh </li>\n",
    "<li>Name (and student ID): Alan Milligan </li>\n",
    "</ul>\n",
    "\n",
    "\n",
    "## Debugging Tips\n",
    "\n",
    "* Debugging in Jupyter Notebook can be using `pdb` or `ipdb`\n",
    "* Insert `import ipdb; ipdb.set_trace()` to where you want to set a breakpoint\n",
    "* See https://docs.python.org/3/library/pdb.html#debugger-commands for useful commands\n",
    "* Remember to quit out from an `ipdb` session, otherwise you may wonder why a code cell is taking forever to complete 😉"
   ]
  },
  {
   "cell_type": "markdown",
   "metadata": {},
   "source": [
    "---\n",
    "\n",
    "##  Tabular Q-Learning\n",
    "\n",
    "Tabular Q-learning is an RL algorithm for problems with discrete states and discrete actions. The algorithm is described in the class notes, which borrows the summary description from [Section 6.5](http://incompleteideas.net/book/RLbook2018.pdf#page=153) of Richard Sutton's RL book. In the tabular approach, the Q-value is represented as a lookup table. As discussed in class, Q-learning can further be extended to continuous states and discrete actions, leading to the [Atari DQN](https://arxiv.org/abs/1312.5602) / Deep Q-learning algorithm.  However, it is important and informative to first fully understand tabular Q-learning.\n",
    "\n",
    "Informally, Q-learning works as follows: The goal is to learn the optimal Q-function: \n",
    "`Q(s,a)`, which is the *value* of being at state `s` and taking action `a`.  Q tells you how well you expect to do, on average, from here on out, given that you act optimally.  Once the Q function is learned, choosing an optimal action is as simple as looping over all possible actions and choosing the one with the highest Q (optimal action $a^* = \\text{max}_a Q(s,a)$).  To learn Q, we initialize it arbitrarily and then iteratively refine it using the Bellman backup equation for Q functions, namely: \n",
    "$Q(s,a) \\leftarrow Q(s,a) + \\alpha [r + \\gamma \\text{max}_a Q(s', a) - Q(s,a)]$.\n",
    "Here, $r$ is the reward associated with with the transition from state s to s', and $\\alpha$ is a learning rate.\n",
    "\n",
    "In this assignment you will implement tabular Q-learning and apply it to CartPole – an environment with a **continuous** state space.  To apply the tabular method, **you will need to discretize the CartPole state space** by dividing the state-space into bins.\n",
    "\n",
    "\n",
    "**Assignment goals:**\n",
    "- To become familiar with Python, NumPy, and OpenAI Gym\n",
    "- To understand and implement tabular Q-learning\n",
    "- To experiment tabular Q-learning on your implemention of discrete CartPole environment\n",
    "- (Optional) To develop further intuition regarding possible variations of the algorithm"
   ]
  },
  {
   "cell_type": "markdown",
   "metadata": {},
   "source": [
    "## Introduction\n",
    "Deep reinforcement learning has generated impressive results for board games ([Go][go], [Chess/Shogi][chess]), video games ([Atari][atari], , [DOTA2][dota], [StarCraft II][scii]), [and][baoding] [robotic][rubix] [control][anymal] ([of][cassie] [course][mimic] 😉).  RL is beginning to work for an increasing range of tasks and capabilities.  At the same time, there are many [gaping holes][irpan] and [difficulties][amid] in applying these methods. Understanding deep RL is important if you wish to have a good grasp of the modern landscape of control methods.\n",
    "\n",
    "These next several assignments are designed to get you started with deep reinforcement learning, to give you a more close and personal understanding of the methods, and to provide you with a good starting point from which you can branch out into topics of interest. You will implement basic versions of some of the important fundamental algorithms in this space, including Q-learning, policy gradient, and search methods.\n",
    "\n",
    "We will only have time to cover a subset of methods and ideas in this space.\n",
    "If you want to dig deeper, we suggest following the links given on the course webpage.  Additionally we draw special attention to the [Sutton book](http://incompleteideas.net/book/RLbook2018.pdf) for RL fundamentals and in depth coverage, and OpenAI's [Spinning Up resources](https://spinningup.openai.com/en/latest/spinningup/rl_intro.html) for a concise intro to RL and deep RL concepts, as well as good comparisons and implementations of modern deep RL algorithms.\n",
    "\n",
    "\n",
    "[atari]: https://arxiv.org/abs/1312.5602\n",
    "[go]: https://deepmind.com/research/case-studies/alphago-the-story-so-far\n",
    "[chess]:https://deepmind.com/blog/article/alphazero-shedding-new-light-grand-games-chess-shogi-and-go \n",
    "[dota]: https://openai.com/blog/openai-five/\n",
    "[scii]: https://deepmind.com/blog/article/AlphaStar-Grandmaster-level-in-StarCraft-II-using-multi-agent-reinforcement-learning\n",
    "[baoding]: https://bair.berkeley.edu/blog/2019/09/30/deep-dynamics/\n",
    "[rubix]: https://openai.com/blog/solving-rubiks-cube/\n",
    "[cassie]: https://www.cs.ubc.ca/~van/papers/2019-CORL-cassie/index.html\n",
    "[mimic]: https://www.cs.ubc.ca/~van/papers/2018-TOG-deepMimic/index.html\n",
    "[anymal]: https://arxiv.org/abs/1901.08652\n",
    "\n",
    "\n",
    "[irpan]: https://www.alexirpan.com/2018/02/14/rl-hard.html\n",
    "[amid]: http://amid.fish/reproducing-deep-rl\n",
    "\n"
   ]
  },
  {
   "cell_type": "code",
   "execution_count": 2,
   "metadata": {},
   "outputs": [],
   "source": [
    "# Install dependencies\n",
    "# Only run if necessary\n",
    "#!pip install gym\n",
    "#!pip install numpy\n",
    "#!pip install matplotlib"
   ]
  },
  {
   "cell_type": "code",
   "execution_count": 1,
   "metadata": {},
   "outputs": [],
   "source": [
    "import time\n",
    "import itertools\n",
    "import numpy as np\n",
    "import gym\n",
    "import copy, math"
   ]
  },
  {
   "cell_type": "markdown",
   "metadata": {},
   "source": [
    "---\n",
    "\n",
    "## 1. Explore the CartPole environment [18 pts]\n",
    "\n",
    "Your first task is to familiarize yourself with the OpenAI gym interface and the [CartPole environment]( https://github.com/openai/gym/blob/master/gym/envs/classic_control/cartpole.py)\n",
    "by writing a simple hand-coded policy to try to solve it.  \n",
    "Read this brief introduction on [OpenAI Gym](https://gym.openai.com/docs/) to get started. \n",
    "The gym interface is very popular and you will see many algorithm implementations and \n",
    "custom environments that support it.  You may even want to use the API in your course projects, \n",
    "to define a custom environment for a task you want to solve.\n",
    "\n",
    "Below is some example code that runs a simple random policy.  You are to:\n",
    "- **run the code to see what it does**\n",
    "- **write code that chooses an action based on the observation**.  You will need to learn about the gym API and to read the CartPole documentation to figure out what the `action` and `obs` vectors mean for this environment. \n",
    "Your hand-coded policy can be arbitrary, and it should ideally do better than the random policy.  There is no single correct answer. The goal is to become familiar with `env`s.\n",
    "- **write code to print out the total reward gained by your policy in a single episode run**\n",
    "- **answer the short-response questions below** (see the TODOs for all of this)"
   ]
  },
  {
   "cell_type": "code",
   "execution_count": 2,
   "metadata": {},
   "outputs": [
    {
     "name": "stdout",
     "output_type": "stream",
     "text": [
      "observation space: Box([-4.8000002e+00 -3.4028235e+38 -4.1887903e-01 -3.4028235e+38], [4.8000002e+00 3.4028235e+38 4.1887903e-01 3.4028235e+38], (4,), float32)\n",
      "action space: Discrete(2)\n"
     ]
    }
   ],
   "source": [
    "env = gym.make('CartPole-v1')  # you can also try LunarLander-v2, but make sure to change it back\n",
    "print('observation space:', env.observation_space)\n",
    "print('action space:', env.action_space)\n",
    "\n",
    "# To find out what the observations mean, read the CartPole documentation.\n",
    "# Uncomment the lines below, or visit the source file: \n",
    "# https://github.com/openai/gym/blob/master/gym/envs/classic_control/cartpole.py\n",
    "\n",
    "#cartpole = env.unwrapped\n",
    "#cartpole?"
   ]
  },
  {
   "cell_type": "markdown",
   "metadata": {},
   "source": [
    "**1.1 [10pts] Complete the `TODO`s in the next code block**"
   ]
  },
  {
   "cell_type": "code",
   "execution_count": 4,
   "metadata": {},
   "outputs": [
    {
     "name": "stdout",
     "output_type": "stream",
     "text": [
      "Total reward: 39.00\n"
     ]
    }
   ],
   "source": [
    "# Q1.1\n",
    "\n",
    "# Runs a single episode and render it\n",
    "# Try running this before editing anything\n",
    "\n",
    "obs = env.reset()  # get initial state/observation\n",
    "total_reward = 0\n",
    "\n",
    "while True:\n",
    "    # TODO: replace this `action` with something that depends on `obs`\n",
    "    action = 0 if obs[2] < 0 else 1\n",
    "    obs, reward, done, info = env.step(action)\n",
    "    total_reward += reward\n",
    "    \n",
    "    env.render()\n",
    "    time.sleep(0.1)  # so it doesn't render too quickly\n",
    "    if done: break\n",
    "env.close()\n",
    "\n",
    "# TODO: print out your total sum of rewards here\n",
    "print(\"Total reward: {:.2f}\".format(total_reward))"
   ]
  },
  {
   "cell_type": "markdown",
   "metadata": {},
   "source": [
    "**1.2. [2pts] Describe the observation and action spaces of CartPole.  What does each of the values mean/do?**\n",
    "\n",
    "*Hint: Look at the full [source code here](https://github.com/openai/gym/blob/master/gym/envs/classic_control/cartpole.py) if you haven't already.*\n"
   ]
  },
  {
   "cell_type": "markdown",
   "metadata": {},
   "source": [
    "The observation space of CartPole is a subset of $\\mathbb{R}^4$ and specifies the possible values of the state. The range of each dimension of observation space indicate the range of cart position, cart velocity, pole angle, pole angular velocity respectively.\n",
    "\n",
    "The action space of CartPole is a discrete space with 2 elements: \"move left\" and \"move right\"."
   ]
  },
  {
   "cell_type": "markdown",
   "metadata": {},
   "source": [
    "**1.3. [2pts] What distribution is used to sample initial states? (see the `reset` function)** "
   ]
  },
  {
   "cell_type": "markdown",
   "metadata": {},
   "source": [
    "Intial states are sampled from the uniform distribution on $[-0.05, 0.05]^4$."
   ]
  },
  {
   "cell_type": "markdown",
   "metadata": {},
   "source": [
    "**1.4. [2pts] What is the termination condition, which determines if the `env` is `done`?** "
   ]
  },
  {
   "cell_type": "markdown",
   "metadata": {},
   "source": [
    "The termination condition is that the absolute value of either cart position or pole angle exceeds the thresholds given by ```self.x_threshold``` and ```self.theta_threshold_radians``` in the source."
   ]
  },
  {
   "cell_type": "markdown",
   "metadata": {},
   "source": [
    "**1.5. [2pts] Briefly describe your policy.  What observation information does it use?  What score did you achieve (rough maximum and average)?  And how does it compare to the random policy?**"
   ]
  },
  {
   "cell_type": "markdown",
   "metadata": {},
   "source": [
    "My policy is that if the pole is leaned to the left (negative pole angle) then push left, otherwise push right. After 10 simulations, the maximum and average total reward is 55 and 44.2 respectively. This is clearly better than the random policy which has average total reward 21.9 after 10 simulations."
   ]
  },
  {
   "cell_type": "markdown",
   "metadata": {},
   "source": [
    "---\n",
    "\n",
    "## 2. Discretize the environment [32 pts]\n",
    "\n",
    "Next, we need to discretize CartPole's continuous state space to work for tabular Q-learning.  While this is in part  a contrived usage of tabular methods, given the existence of other approaches that are designed to cope with continuous state-spaces, it is also interesting to consider whether tabular methods can be adapted more directly via discretization of the state into bins. Furthermore, tabular methods are simple, interpretabile, and can be proved to converge, and thus they still remain relevant.\n",
    "\n",
    "Your task is to discretize the state/observation space so that it is compatible with tabular Q-learning.  To do this:\n",
    "- **implement `obs_normalizer` to pass its test**\n",
    "- **implement `get_bins` to pass its test**\n",
    "- **then answer questions 2.3 and 2.4**\n",
    "\n",
    "[map]: https://arxiv.org/abs/1504.04909\n",
    "[qd]: https://quality-diversity.github.io/"
   ]
  },
  {
   "cell_type": "markdown",
   "metadata": {},
   "source": [
    "**2.1 [15pts for passing test_normed]** Normalize observation space"
   ]
  },
  {
   "cell_type": "code",
   "execution_count": 3,
   "metadata": {},
   "outputs": [],
   "source": [
    "# Q2.1\n",
    "\n",
    "def obs_normalizer(obs):\n",
    "    \"\"\"Normalize the observations between 0 and 1\n",
    "    \n",
    "    If the observation has extremely large bounds, then clip to a reasonable range before normalizing; \n",
    "    (-2,2) should work.  (It is ok if the solution is specific to CartPole)\n",
    "    \n",
    "    Args:\n",
    "        obs (np.ndarray): shape (4,) containing an observation from CartPole using the bound of the env\n",
    "    Returns:\n",
    "        normed (np.ndarray): shape (4,) where all elements are roughly uniformly mapped to the range [0, 1]\n",
    "    \n",
    "    \"\"\"\n",
    "    # HINT: check out env.observation_space.high, env.observation_space.low\n",
    "    \n",
    "    # TODO: implement this function\n",
    "    normed = copy.deepcopy(obs)\n",
    "    x_high, x_low = 4.8, -4.8\n",
    "    theta_high, theta_low = 48 * math.pi / 360, -48 * math.pi / 360\n",
    "    \n",
    "    # clip cart velocity and pole angular velocity to [-2,2]\n",
    "    normed[[1,3]] = np.clip(normed[[1,3]], -2, 2)\n",
    "    # normalize\n",
    "    normed[0] = (normed[0] - x_low) / (x_high - x_low)\n",
    "    normed[2] = (normed[2] - theta_low) / (theta_high - theta_low)\n",
    "    normed[[1,3]] = (normed[[1,3]] + 2) / 4\n",
    "    \n",
    "    return normed"
   ]
  },
  {
   "cell_type": "code",
   "execution_count": 4,
   "metadata": {},
   "outputs": [
    {
     "name": "stdout",
     "output_type": "stream",
     "text": [
      "Passed!\n"
     ]
    }
   ],
   "source": [
    "### TEST 2.1\n",
    "def test_normed():\n",
    "    obs = env.reset()\n",
    "    while True:\n",
    "        obs, _, done, _ =  env.step(env.action_space.sample())\n",
    "        normed = obs_normalizer(obs) \n",
    "        assert np.all(normed >= 0.0) and np.all(normed <= 1.0), '{} are outside of (0,1)'.format(normed)\n",
    "        if done: break\n",
    "    env.close()\n",
    "    print('Passed!')\n",
    "test_normed()"
   ]
  },
  {
   "cell_type": "markdown",
   "metadata": {},
   "source": [
    "**2.2 [13pts for passing test_binned]**"
   ]
  },
  {
   "cell_type": "code",
   "execution_count": 5,
   "metadata": {},
   "outputs": [],
   "source": [
    "# Q2.2\n",
    "\n",
    "def get_bins(normed, num_bins):\n",
    "    \"\"\"Map normalized observations (0,1) to bin index values (0,num_bins-1)\n",
    "    \n",
    "    Args:\n",
    "        normed (np.ndarray): shape (4,) output from obs_normalizer\n",
    "        num_bins (int): how many bins to use\n",
    "    Returns:\n",
    "        binned (np.ndarray of type np.int): shape (4,) where all elements are values in range [0,num_bins-1]\n",
    "    \n",
    "    \"\"\"\n",
    "    # TODO: implement this function\n",
    "    # take minimum with num_bins - 1 so that the value 1 is in the last bin\n",
    "    binned = np.minimum((normed * num_bins).astype(np.int32), num_bins - 1)\n",
    "    \n",
    "    return binned"
   ]
  },
  {
   "cell_type": "code",
   "execution_count": 6,
   "metadata": {},
   "outputs": [
    {
     "name": "stdout",
     "output_type": "stream",
     "text": [
      "Passed!\n"
     ]
    }
   ],
   "source": [
    "### TEST 2.2\n",
    "obs = env.reset()\n",
    "env.close()\n",
    "\n",
    "def test_binned(num_bins):\n",
    "    normed = np.array([0.0, 0.2, 0.8, 1.0])\n",
    "    binned = get_bins(normed, num_bins)\n",
    "    assert np.all(binned >= 0) and np.all(binned < num_bins), '{} supposed to be between (0, {})'.format(binned, num_bins-1)\n",
    "    assert binned.dtype == np.int32, \"You should also make sure to cast your answer to int using np.int() or arr.astype(np.int)\" \n",
    "    \n",
    "test_binned(5)\n",
    "test_binned(10)\n",
    "test_binned(50)\n",
    "print('Passed!')"
   ]
  },
  {
   "cell_type": "markdown",
   "metadata": {},
   "source": [
    "**2.3. [2pts] If your state has 4 values and each is binned into N possible bins, how many bins are needed to represent all unique possible states)?**\n",
    "\n"
   ]
  },
  {
   "cell_type": "markdown",
   "metadata": {},
   "source": [
    "$N^4$"
   ]
  },
  {
   "cell_type": "markdown",
   "metadata": {},
   "source": [
    "**2.4. [2pts] After discretizing state space, is the dynamics deterministic or non-deterministic? Explain your answer in one to two sentences.**"
   ]
  },
  {
   "cell_type": "markdown",
   "metadata": {},
   "source": [
    "The discretization causes the dynamics to become stochastic. This is because we lose information when we go from continuous values to bins, so this problems turned from an MDP to a POMDP."
   ]
  },
  {
   "cell_type": "markdown",
   "metadata": {},
   "source": [
    "---\n",
    "\n",
    "## 3. Solve the env [30 pts] \n",
    "\n",
    "Using the pseudocode below and the functions you implemented above, implement tabular Q-learning and use it to solve CartPole.\n",
    "\n",
    "We provide setup code to initialize the Q-table and give examples of interfacing with it. Write the inner and outer loops to train your algorithm.  These training loops will be similar to those deep RL approaches, so get used to writing them!\n",
    "\n",
    "The algorithm (excerpted from Section 6.5 of [Sutton's book](http://incompleteideas.net/book/RLbook2018.pdf)) is given below:\n",
    "\n",
    "![Sutton RL](https://i.imgur.com/mdcWVRL.png)\n",
    "\n",
    "in summary:\n",
    "- **implement Q-learning using this pseudocode and the helper code**\n",
    "- **answer the questions below**\n",
    "- **run the suggested experiments and otherwise experiment with whatever interests you**"
   ]
  },
  {
   "cell_type": "code",
   "execution_count": 15,
   "metadata": {},
   "outputs": [
    {
     "name": "stdout",
     "output_type": "stream",
     "text": [
      "Shape of Q Table:  (10, 10, 10, 10, 2)\n",
      "Original obs [ 0.01712155  0.01500509 -0.00751451  0.0068919 ] --> binned (5, 5, 4, 5)\n",
      "Value of Q Table at that obs/state value [0. 0.]\n",
      "(2,)\n"
     ]
    }
   ],
   "source": [
    "# setup (see last few lines for how to use the Q-table)\n",
    "\n",
    "# hyper parameters. feel free to change these as desired and experiment with different values\n",
    "num_bins = 10\n",
    "alpha = 0.1\n",
    "gamma = 0.99\n",
    "log_n = 1000\n",
    "# epsilon greedy\n",
    "eps = 0.05  #usage: action = optimal if np.random.rand() > eps else random\n",
    "\n",
    "obs = env.reset()\n",
    "\n",
    "# Q-table initialized to zeros.  first 4 dims are state, last dim is for action (0,1) for left,right.\n",
    "Q = np.zeros([num_bins]*len(obs)+[env.action_space.n])\n",
    "\n",
    "# helper function to convert observation into a binned state so we can index into our Q-table\n",
    "obs2bin = lambda obs: tuple(get_bins(obs_normalizer(obs), num_bins=num_bins))\n",
    "\n",
    "s = obs2bin(obs)\n",
    "\n",
    "print('Shape of Q Table: ', Q.shape) # you can imagine why tabular learning does not scale very well\n",
    "print('Original obs {} --> binned {}'.format(obs, s))\n",
    "print('Value of Q Table at that obs/state value', Q[s])"
   ]
  },
  {
   "cell_type": "markdown",
   "metadata": {},
   "source": [
    "**3.1 [25pts] Implement Q-learning**"
   ]
  },
  {
   "cell_type": "code",
   "execution_count": 8,
   "metadata": {},
   "outputs": [],
   "source": [
    "# Q3.1\n",
    "\n",
    "# TODO: implement Q learning, following the pseudo-code above. \n",
    "#     - you can follow it almost exactly, but translating things for the gym api and our code used above\n",
    "#     - make sure to use e-greedy, where e = random about 0.05 percent of the time\n",
    "#     - make sure to do the S <-- S' step because it can be easy to forget\n",
    "#     - every log_n steps, you should render your environment and\n",
    "#       print out the average total episode rewards of the past log_n runs to monitor how your agent trains\n",
    "#      (your implementation should be able to break at least +150 average reward value, and you can use that \n",
    "#       as a breaking condition.  It make take several minutes to run depending on your computer.)\n",
    "\n",
    "# if average_reward_goal is None then train with exactly num_episodes episodes\n",
    "# otherwise train until either average reward over the log_n episodes exceed average_reward_goal\n",
    "def CartPole_Q_learning(num_episodes=20000, num_bins=10, alpha=0.1, gamma=0.99, \n",
    "                        log_n=1000, eps=0.05, average_reward_goal=150):\n",
    "    # Q-table initialized to zeros.\n",
    "    Q = np.zeros([num_bins]*len(env.reset())+[env.action_space.n])\n",
    "    \n",
    "    # episode_rewards stores the total rewards of each episode\n",
    "    episode_rewards = []\n",
    "    \n",
    "    for episode in range(num_episodes):   \n",
    "        S = obs2bin(env.reset())\n",
    "        episode_rewards.append(0)     \n",
    "        while True:            \n",
    "            # choose action by epsilon-greedy policy\n",
    "            A = np.argmax(Q[S]) if np.random.rand() > eps else np.random.choice(2)\n",
    "            \n",
    "            # take action, update Q and S\n",
    "            obs, R, done, _ = env.step(A)\n",
    "            S_next = obs2bin(obs)\n",
    "            Q[S][A] = Q[S][A] + alpha * (R + gamma * np.max(Q[S_next]) - Q[S][A])\n",
    "            S = S_next\n",
    "            episode_rewards[episode] += R\n",
    "            '''\n",
    "            # render after every log_n episodes\n",
    "            if (episode + 1) % log_n == 0: \n",
    "                env.render()\n",
    "                time.sleep(0.01)\n",
    "            '''\n",
    "            if done: break\n",
    "        \n",
    "        # print out average total episode rewards after every log_n episodes\n",
    "        if (episode + 1) % log_n == 0:\n",
    "            average_reward = np.mean(episode_rewards[-log_n:])\n",
    "            print(\"Average rewards of the past {} episodes at iteration {}: {:.2f}\".format(log_n, episode+1, average_reward))\n",
    "            if (average_reward_goal is not None) and (average_reward > average_reward_goal): break\n",
    "\n",
    "    if (average_reward_goal is not None) and (np.mean(episode_rewards[-log_n:]) <= average_reward_goal):\n",
    "        print(\"WARNING: Average reward did not exceed average_reward_goal\")\n",
    "\n",
    "    return Q, episode_rewards"
   ]
  },
  {
   "cell_type": "code",
   "execution_count": 39,
   "metadata": {},
   "outputs": [
    {
     "name": "stdout",
     "output_type": "stream",
     "text": [
      "Average rewards of the past 1000 episodes at iteration 1000: 10.98\n",
      "Average rewards of the past 1000 episodes at iteration 2000: 10.91\n",
      "Average rewards of the past 1000 episodes at iteration 3000: 11.19\n",
      "Average rewards of the past 1000 episodes at iteration 4000: 10.68\n",
      "Average rewards of the past 1000 episodes at iteration 5000: 10.82\n",
      "Average rewards of the past 1000 episodes at iteration 6000: 28.96\n",
      "Average rewards of the past 1000 episodes at iteration 7000: 71.94\n",
      "Average rewards of the past 1000 episodes at iteration 8000: 133.59\n",
      "Average rewards of the past 1000 episodes at iteration 9000: 214.16\n"
     ]
    }
   ],
   "source": [
    "_, _ = CartPole_Q_learning()"
   ]
  },
  {
   "cell_type": "markdown",
   "metadata": {},
   "source": [
    "**3.2 [5pts] Plot the learning curve**"
   ]
  },
  {
   "cell_type": "code",
   "execution_count": 15,
   "metadata": {},
   "outputs": [
    {
     "name": "stdout",
     "output_type": "stream",
     "text": [
      "Average rewards of the past 1000 episodes at iteration 1000: 10.47\n",
      "Average rewards of the past 1000 episodes at iteration 2000: 10.59\n",
      "Average rewards of the past 1000 episodes at iteration 3000: 10.55\n",
      "Average rewards of the past 1000 episodes at iteration 4000: 10.98\n",
      "Average rewards of the past 1000 episodes at iteration 5000: 19.59\n",
      "Average rewards of the past 1000 episodes at iteration 6000: 71.21\n",
      "Average rewards of the past 1000 episodes at iteration 7000: 177.68\n",
      "Average rewards of the past 1000 episodes at iteration 8000: 230.92\n",
      "Average rewards of the past 1000 episodes at iteration 9000: 287.71\n",
      "Average rewards of the past 1000 episodes at iteration 10000: 249.22\n",
      "Average rewards of the past 1000 episodes at iteration 1000: 9.69\n",
      "Average rewards of the past 1000 episodes at iteration 2000: 9.88\n",
      "Average rewards of the past 1000 episodes at iteration 3000: 9.81\n",
      "Average rewards of the past 1000 episodes at iteration 4000: 9.83\n",
      "Average rewards of the past 1000 episodes at iteration 5000: 9.81\n",
      "Average rewards of the past 1000 episodes at iteration 6000: 9.97\n",
      "Average rewards of the past 1000 episodes at iteration 7000: 37.25\n",
      "Average rewards of the past 1000 episodes at iteration 8000: 119.25\n",
      "Average rewards of the past 1000 episodes at iteration 9000: 212.09\n",
      "Average rewards of the past 1000 episodes at iteration 10000: 231.48\n",
      "Average rewards of the past 1000 episodes at iteration 1000: 9.61\n",
      "Average rewards of the past 1000 episodes at iteration 2000: 9.85\n",
      "Average rewards of the past 1000 episodes at iteration 3000: 9.86\n",
      "Average rewards of the past 1000 episodes at iteration 4000: 9.91\n",
      "Average rewards of the past 1000 episodes at iteration 5000: 9.91\n",
      "Average rewards of the past 1000 episodes at iteration 6000: 28.13\n",
      "Average rewards of the past 1000 episodes at iteration 7000: 121.92\n",
      "Average rewards of the past 1000 episodes at iteration 8000: 205.72\n",
      "Average rewards of the past 1000 episodes at iteration 9000: 245.37\n",
      "Average rewards of the past 1000 episodes at iteration 10000: 262.35\n",
      "Average rewards of the past 1000 episodes at iteration 1000: 10.20\n",
      "Average rewards of the past 1000 episodes at iteration 2000: 10.35\n",
      "Average rewards of the past 1000 episodes at iteration 3000: 10.40\n",
      "Average rewards of the past 1000 episodes at iteration 4000: 10.41\n",
      "Average rewards of the past 1000 episodes at iteration 5000: 10.50\n",
      "Average rewards of the past 1000 episodes at iteration 6000: 12.77\n",
      "Average rewards of the past 1000 episodes at iteration 7000: 138.28\n",
      "Average rewards of the past 1000 episodes at iteration 8000: 264.98\n",
      "Average rewards of the past 1000 episodes at iteration 9000: 260.24\n",
      "Average rewards of the past 1000 episodes at iteration 10000: 197.35\n",
      "Average rewards of the past 1000 episodes at iteration 1000: 9.64\n",
      "Average rewards of the past 1000 episodes at iteration 2000: 9.84\n",
      "Average rewards of the past 1000 episodes at iteration 3000: 9.86\n",
      "Average rewards of the past 1000 episodes at iteration 4000: 9.92\n",
      "Average rewards of the past 1000 episodes at iteration 5000: 9.81\n",
      "Average rewards of the past 1000 episodes at iteration 6000: 27.56\n",
      "Average rewards of the past 1000 episodes at iteration 7000: 107.29\n",
      "Average rewards of the past 1000 episodes at iteration 8000: 160.31\n",
      "Average rewards of the past 1000 episodes at iteration 9000: 255.02\n",
      "Average rewards of the past 1000 episodes at iteration 10000: 278.71\n"
     ]
    },
    {
     "data": {
      "text/plain": [
       "<matplotlib.collections.PolyCollection at 0x120f1edf0>"
      ]
     },
     "execution_count": 15,
     "metadata": {},
     "output_type": "execute_result"
    },
    {
     "data": {
      "image/png": "[encoded data removed]",
      "text/plain": [
       "<Figure size 432x288 with 1 Axes>"
      ]
     },
     "metadata": {
      "needs_background": "light"
     },
     "output_type": "display_data"
    }
   ],
   "source": [
    "# Q3.2\n",
    "\n",
    "# TODO: Plot the learning curve.\n",
    "#       Below is a snippet for generate a curve with upper and lower bounds.\n",
    "#       From your training loop above, save the episode rewards.\n",
    "#       Rerun the training code a few times to get min and max.\n",
    "\n",
    "\n",
    "import matplotlib.pyplot as plt\n",
    "from bottleneck import move_mean\n",
    "\n",
    "num_episodes = 10000\n",
    "\n",
    "# lists of min and max episode rewards\n",
    "min_episode_rewards = np.full(num_episodes, np.inf)\n",
    "max_episode_rewards = np.full(num_episodes, 0)\n",
    "mean_episode_rewards = np.full(num_episodes, 0)\n",
    "\n",
    "plt.close()\n",
    "for i in range(5):\n",
    "    # To make the plotting easier, set average_reward_goal to None and run with same num_episodes\n",
    "    # (see Cartpole_Q_learning implementation above)\n",
    "    _, episode_rewards = CartPole_Q_learning(num_episodes=num_episodes, average_reward_goal=None)\n",
    "\n",
    "    min_episode_rewards = np.minimum(min_episode_rewards, episode_rewards)\n",
    "    max_episode_rewards = np.maximum(max_episode_rewards, episode_rewards)\n",
    "    mean_episode_rewards = mean_episode_rewards + np.array(episode_rewards)/5\n",
    "\n",
    "    #plt.plot(episode_rewards)\n",
    "\n",
    "window_size = 100\n",
    "plt.plot(move_mean(mean_episode_rewards, window_size))\n",
    "plt.fill_between(np.arange(num_episodes),\n",
    "                move_mean(min_episode_rewards, window_size),\n",
    "                move_mean(max_episode_rewards, window_size),\n",
    "                alpha=0.5)"
   ]
  },
  {
   "cell_type": "markdown",
   "metadata": {},
   "source": [
    "## 4. Experiments [20 pts]\n",
    "\n",
    "Given a working algorithm, you will run a few experiments.  Either make a copy of your code above to modify, or make the modifications in a way that they can be commented out or switched between (with boolean flag if statements)."
   ]
  },
  {
   "cell_type": "markdown",
   "metadata": {},
   "source": [
    "**4.2. [10pts] $\\epsilon$-greedy.**  How sensitive are the results to the value of $\\epsilon$?   First, write down your prediction of what would happen if $\\epsilon$ is set to various values, including for example [0, 0.05, 0.25, 0.5]."
   ]
  },
  {
   "cell_type": "markdown",
   "metadata": {},
   "source": [
    "At $\\epsilon = 0$, we will never learn as there are no explore actions taken, and since we initlized to 0 we are just going to go left and die each time. For 0.05, this is what we did above so I \"predict\" that it starts off somewhat low but tranins relativly quickly. For 0.25, I suspect the peak performance will be somewhat worse than 0.05, but the rate at which it gets there to be much faster due to better explore near the start. For 0.5, I suspect peak performance will be pretty bad given no matter how good of a policy you learn, you will be taking random actions half the time and so there is a pretty good chance you'll do an unlucky sequence and die."
   ]
  },
  {
   "cell_type": "markdown",
   "metadata": {},
   "source": [
    "Now run the experiment and observe the impact on the algorithm.  Report the results below."
   ]
  },
  {
   "cell_type": "code",
   "execution_count": 43,
   "metadata": {},
   "outputs": [
    {
     "name": "stdout",
     "output_type": "stream",
     "text": [
      "Average rewards of the past 1000 episodes at iteration 1000: 9.32\n",
      "Average rewards of the past 1000 episodes at iteration 2000: 9.35\n",
      "Average rewards of the past 1000 episodes at iteration 3000: 9.36\n",
      "Average rewards of the past 1000 episodes at iteration 4000: 9.34\n",
      "Average rewards of the past 1000 episodes at iteration 5000: 9.34\n",
      "Average rewards of the past 1000 episodes at iteration 6000: 9.32\n",
      "Average rewards of the past 1000 episodes at iteration 7000: 9.37\n",
      "Average rewards of the past 1000 episodes at iteration 8000: 9.38\n",
      "Average rewards of the past 1000 episodes at iteration 9000: 9.35\n",
      "Average rewards of the past 1000 episodes at iteration 10000: 9.34\n",
      "Average rewards of the past 1000 episodes at iteration 11000: 9.32\n",
      "Average rewards of the past 1000 episodes at iteration 12000: 9.32\n",
      "Average rewards of the past 1000 episodes at iteration 13000: 9.32\n",
      "Average rewards of the past 1000 episodes at iteration 14000: 9.34\n",
      "Average rewards of the past 1000 episodes at iteration 15000: 9.33\n",
      "Average rewards of the past 1000 episodes at iteration 16000: 9.34\n",
      "Average rewards of the past 1000 episodes at iteration 17000: 9.37\n",
      "Average rewards of the past 1000 episodes at iteration 18000: 9.37\n",
      "Average rewards of the past 1000 episodes at iteration 19000: 9.35\n",
      "Average rewards of the past 1000 episodes at iteration 20000: 9.30\n",
      "WARNING: Average reward did not exceed average_reward_goal\n"
     ]
    }
   ],
   "source": [
    "_, _ = CartPole_Q_learning(eps=0)"
   ]
  },
  {
   "cell_type": "code",
   "execution_count": 44,
   "metadata": {},
   "outputs": [
    {
     "name": "stdout",
     "output_type": "stream",
     "text": [
      "Average rewards of the past 1000 episodes at iteration 1000: 9.74\n",
      "Average rewards of the past 1000 episodes at iteration 2000: 9.84\n",
      "Average rewards of the past 1000 episodes at iteration 3000: 9.96\n",
      "Average rewards of the past 1000 episodes at iteration 4000: 9.89\n",
      "Average rewards of the past 1000 episodes at iteration 5000: 16.43\n",
      "Average rewards of the past 1000 episodes at iteration 6000: 89.72\n",
      "Average rewards of the past 1000 episodes at iteration 7000: 175.26\n"
     ]
    }
   ],
   "source": [
    "_, _ = CartPole_Q_learning(eps=0.05)"
   ]
  },
  {
   "cell_type": "code",
   "execution_count": 45,
   "metadata": {},
   "outputs": [
    {
     "name": "stdout",
     "output_type": "stream",
     "text": [
      "Average rewards of the past 1000 episodes at iteration 1000: 43.15\n",
      "Average rewards of the past 1000 episodes at iteration 2000: 128.95\n",
      "Average rewards of the past 1000 episodes at iteration 3000: 167.55\n"
     ]
    }
   ],
   "source": [
    "_, _ = CartPole_Q_learning(eps=0.25)"
   ]
  },
  {
   "cell_type": "code",
   "execution_count": 47,
   "metadata": {},
   "outputs": [
    {
     "name": "stdout",
     "output_type": "stream",
     "text": [
      "Average rewards of the past 1000 episodes at iteration 1000: 41.18\n",
      "Average rewards of the past 1000 episodes at iteration 2000: 80.14\n",
      "Average rewards of the past 1000 episodes at iteration 3000: 88.22\n",
      "Average rewards of the past 1000 episodes at iteration 4000: 88.66\n",
      "Average rewards of the past 1000 episodes at iteration 5000: 94.90\n",
      "Average rewards of the past 1000 episodes at iteration 6000: 97.61\n",
      "Average rewards of the past 1000 episodes at iteration 7000: 97.22\n",
      "Average rewards of the past 1000 episodes at iteration 8000: 97.88\n",
      "Average rewards of the past 1000 episodes at iteration 9000: 96.62\n",
      "Average rewards of the past 1000 episodes at iteration 10000: 94.86\n",
      "Average rewards of the past 1000 episodes at iteration 11000: 97.71\n",
      "Average rewards of the past 1000 episodes at iteration 12000: 91.30\n",
      "Average rewards of the past 1000 episodes at iteration 13000: 84.72\n",
      "Average rewards of the past 1000 episodes at iteration 14000: 97.37\n",
      "Average rewards of the past 1000 episodes at iteration 15000: 95.39\n",
      "Average rewards of the past 1000 episodes at iteration 16000: 93.07\n",
      "Average rewards of the past 1000 episodes at iteration 17000: 92.74\n",
      "Average rewards of the past 1000 episodes at iteration 18000: 95.17\n",
      "Average rewards of the past 1000 episodes at iteration 19000: 93.91\n",
      "Average rewards of the past 1000 episodes at iteration 20000: 94.54\n",
      "WARNING: Average reward did not exceed average_reward_goal\n"
     ]
    }
   ],
   "source": [
    "_, _ = CartPole_Q_learning(eps=0.5)"
   ]
  },
  {
   "cell_type": "markdown",
   "metadata": {},
   "source": [
    "For $\\epsilon=0$, we in fact never learn and the average reward is stuck at about 9.3. \n",
    "\n",
    "When we used $\\epsilon=0.25$, the average rewards were much higher for the first few thousand episodes and exceeded 150 faster than when we used $\\epsilon=0.05$. This is because $\\epsilon=0.25$ allowed more exploration at the start, hence found the optimal policy more quickly.\n",
    "\n",
    "For $\\epsilon=0.5$, the average rewards increased quickly for the first few thousand episodes due to exploration. But it seems that the average rewards could not exceed 100 because it took random actions too often and terminated more easily."
   ]
  },
  {
   "cell_type": "markdown",
   "metadata": {},
   "source": [
    "**4.3. [10pts] Design your own experiment.** Design a modification that you think would either increase or reduce performance.  A simple example (which you can use) is initializing the Q-table differently, and thinking about how this might alter performance. Write down your idea, what you think might happen, and why."
   ]
  },
  {
   "cell_type": "markdown",
   "metadata": {},
   "source": [
    "I personally think an adaptive $\\epsilon$ would be better, that is explore lots at the start and less later so I implimented that. In this problem, I also felt initilizing Q to random binary values would be more effective than 0 as going back and forth randomly is going to be a better policy for pole balancing than running left every time you don't know what to do. Finally, I changed this to double Q learning since we have stochastic dynamics and would like to avoid maximization bias. Here is the implementation."
   ]
  },
  {
   "cell_type": "markdown",
   "metadata": {},
   "source": [
    "Run the experiment and report the results."
   ]
  },
  {
   "cell_type": "code",
   "execution_count": 63,
   "metadata": {},
   "outputs": [
    {
     "name": "stdout",
     "output_type": "stream",
     "text": [
      "Average rewards of the past 1000 episodes at iteration 1000: 33.62\n",
      "Average rewards of the past 1000 episodes at iteration 2000: 122.29\n",
      "Average rewards of the past 1000 episodes at iteration 3000: 240.47\n"
     ]
    }
   ],
   "source": [
    "eps = 1\n",
    "eps_decay = 0.999\n",
    "Q1 = np.random.randint(2,size=[num_bins]*len(obs)+[env.action_space.n]).astype('float32')\n",
    "Q2 = np.random.randint(2,size=[num_bins]*len(obs)+[env.action_space.n]).astype('float32')\n",
    "total_rewards = 0\n",
    "episode = 0\n",
    "\n",
    "# Outer Loop over episodes\n",
    "while True:\n",
    "    S = obs2bin(env.reset())\n",
    "    while True:            \n",
    "        A = np.argmax(Q1[S] + Q2[S]) if np.random.rand() > eps else np.random.choice([0,1])\n",
    "        S_prime, R, done, info = env.step(A)\n",
    "        S_prime = obs2bin(S_prime)\n",
    "\n",
    "        if np.random.rand() > 0.5:\n",
    "            Q1[S][A] = Q1[S][A] + alpha*(R + gamma*np.max(Q2[S_prime][np.argmax(Q1[S_prime])]) - Q1[S][A])\n",
    "        else:\n",
    "            Q2[S][A] = Q2[S][A] + alpha*(R + gamma*np.max(Q1[S_prime][np.argmax(Q2[S_prime])]) - Q2[S][A])\n",
    "        \n",
    "        total_rewards += R\n",
    "        S = S_prime\n",
    "\n",
    "        if done: break \n",
    "\n",
    "    if (episode + 1) % log_n == 0:\n",
    "        print(\"Average rewards of the past {} episodes at iteration {}: {:.2f}\".format(log_n, episode+1, total_rewards/log_n))\n",
    "        if total_rewards/log_n > 150: break\n",
    "        total_rewards = 0\n",
    "\n",
    "    if eps > 0.05:\n",
    "        eps *= eps_decay\n",
    "    episode += 1"
   ]
  },
  {
   "cell_type": "markdown",
   "metadata": {},
   "source": [
    "This approach seemed quite effective, reaching the threshold in 3000-4000 episodes most of the times, which based on what I've seen was superior to the vanilla implementation. However, at times it can be as worse as the worst behaviour seen with the previous implementation. As for which change was actually most effective we would have to do some ablations, but I would guess the initilization would change the most."
   ]
  },
  {
   "cell_type": "markdown",
   "metadata": {},
   "source": [
    "---\n",
    "\n",
    "## A. Extensions (optional)\n",
    "\n",
    "- does the learning rate make a difference?\n",
    "- visualize the Q-table to see which values are being updated and not\n",
    "- design a better binning strategy that uses fewer bins for a better-performing policy\n",
    "- extend this approach to work on different environments (e.g., LunarLander-v2)\n",
    "- extend this approach to work on environments with continuous actions, by using a fixed set of discrete samples of the action space.  e.g., for Pendulum-v0\n",
    "- implement a simple deep learning version of this.  we will see next homework that DQN uses some tricks to make the neural network training more stable.  Experiment directly with simply replacing the Q-table with a Q-Network and train the Q-Network using gradient descent with `loss = (targets - Q(s,a))**2`, where `targets = stop_grad(R + gamma * maxa(Q(s,a))`)."
   ]
  },
  {
   "cell_type": "code",
   "execution_count": null,
   "metadata": {},
   "outputs": [],
   "source": []
  }
 ],
 "metadata": {
  "interpreter": {
   "hash": "3292922a618ca9f3a4e1cf088f6eaea80205f29535491ef474467c2b8876dcf3"
  },
  "kernelspec": {
   "display_name": "Python 3.8.12 64-bit ('python3.8': conda)",
   "name": "python3"
  },
  "language_info": {
   "codemirror_mode": {
    "name": "ipython",
    "version": 3
   },
   "file_extension": ".py",
   "mimetype": "text/x-python",
   "name": "python",
   "nbconvert_exporter": "python",
   "pygments_lexer": "ipython3",
   "version": "3.8.12"
  }
 },
 "nbformat": 4,
 "nbformat_minor": 2
}
